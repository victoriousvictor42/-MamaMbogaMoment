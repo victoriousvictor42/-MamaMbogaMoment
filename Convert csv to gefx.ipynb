{
 "cells": [
  {
   "cell_type": "markdown",
   "id": "ad11999a-6ede-4564-9c5e-69810b5fb111",
   "metadata": {},
   "source": [
    "## 1. Install Required Libraries\n",
    "First, ensure you have the necessary libraries installed. You can install them using pip:"
   ]
  },
  {
   "cell_type": "code",
   "execution_count": 47,
   "id": "4b276307-53eb-46d6-8817-636d88207053",
   "metadata": {},
   "outputs": [
    {
     "name": "stdout",
     "output_type": "stream",
     "text": [
      "Requirement already satisfied: pandas in c:\\users\\dynoh\\anaconda3\\lib\\site-packages (2.2.2)\n",
      "Requirement already satisfied: networkx in c:\\users\\dynoh\\anaconda3\\lib\\site-packages (3.3)\n",
      "Requirement already satisfied: numpy>=1.26.0 in c:\\users\\dynoh\\anaconda3\\lib\\site-packages (from pandas) (1.26.4)\n",
      "Requirement already satisfied: python-dateutil>=2.8.2 in c:\\users\\dynoh\\anaconda3\\lib\\site-packages (from pandas) (2.9.0.post0)\n",
      "Requirement already satisfied: pytz>=2020.1 in c:\\users\\dynoh\\anaconda3\\lib\\site-packages (from pandas) (2024.1)\n",
      "Requirement already satisfied: tzdata>=2022.7 in c:\\users\\dynoh\\anaconda3\\lib\\site-packages (from pandas) (2023.3)\n",
      "Requirement already satisfied: six>=1.5 in c:\\users\\dynoh\\anaconda3\\lib\\site-packages (from python-dateutil>=2.8.2->pandas) (1.16.0)\n",
      "Note: you may need to restart the kernel to use updated packages.\n"
     ]
    }
   ],
   "source": [
    "pip install pandas networkx"
   ]
  },
  {
   "cell_type": "markdown",
   "id": "bb8205e7-a62e-47e6-81dd-e364a26bd6e6",
   "metadata": {},
   "source": [
    "## 2. Prepare Your Data\n",
    "Assuming you have a CSV file (e.g., #MamaMbogaMoment - Sheet1 (1).csv) with columns for authors and mentions, you will need to read this data into a DataFrame."
   ]
  },
  {
   "cell_type": "markdown",
   "id": "32b980eb-f622-4804-8bd0-e18140a9de1e",
   "metadata": {},
   "source": [
    "## 3. Read the CSV File\n",
    "Use pandas to read the CSV file:"
   ]
  },
  {
   "cell_type": "code",
   "execution_count": 50,
   "id": "01098f64-5e6d-49b9-bb6c-7b2eb1db7f78",
   "metadata": {},
   "outputs": [],
   "source": [
    "import pandas as pd\n",
    "\n",
    "# Load the CSV file\n",
    "df = pd.read_csv('../Downloads/#MamaMbogaMoment - Sheet1 (1).csv')"
   ]
  },
  {
   "cell_type": "markdown",
   "id": "403b7766-6753-44bb-94cc-6fe13c5afd50",
   "metadata": {},
   "source": [
    "## 4. Create a Graph\n",
    "Using NetworkX, you can create a directed graph and add nodes and edges based on your data:"
   ]
  },
  {
   "cell_type": "code",
   "execution_count": 52,
   "id": "e5c36711-bb6b-4014-afa8-bd7402ceab48",
   "metadata": {},
   "outputs": [],
   "source": [
    "import networkx as nx\n",
    "\n",
    "# Create a directed graph\n",
    "G = nx.DiGraph()\n",
    "\n",
    "# Add nodes and edges\n",
    "for index, row in df.iterrows():\n",
    "    author = row['Author']\n",
    "    mentioned_authors = row['Mentioned Authors'].split(',')  # Assuming mentions are comma-separated\n",
    "\n",
    "    # Add the author as a node\n",
    "    G.add_node(author)\n",
    "\n",
    "    # Add edges for each mentioned author\n",
    "    for mentioned in mentioned_authors:\n",
    "        G.add_edge(author, mentioned.strip())  # Strip whitespace"
   ]
  },
  {
   "cell_type": "markdown",
   "id": "3bdee716-6bc8-4035-9fbf-9a0fd4ccf70a",
   "metadata": {},
   "source": [
    "## 5. Add Attributes (Optional)\n",
    "If you want to include additional attributes (like sentiment or emotion), you can do so when adding nodes and edges:"
   ]
  },
  {
   "cell_type": "code",
   "execution_count": 54,
   "id": "4cc34b8a-f268-4d3e-9e12-1bb1626c1601",
   "metadata": {},
   "outputs": [],
   "source": [
    "for index, row in df.iterrows():\n",
    "    author = row['Author']\n",
    "    sentiment = row['Sentiment']\n",
    "    emotion = row['Emotion']\n",
    "\n",
    "    # Add node with attributes\n",
    "    G.add_node(author, sentiment=sentiment, emotion=emotion)\n",
    "\n",
    "    mentioned_authors = row['Mentioned Authors'].split(',')\n",
    "    for mentioned in mentioned_authors:\n",
    "        G.add_edge(author, mentioned.strip(), sentiment=row['Sentiment'], emotion=row['Emotion'])"
   ]
  },
  {
   "cell_type": "markdown",
   "id": "0e867055-0ec8-4b7e-9752-a8e130f14ba1",
   "metadata": {},
   "source": [
    "## 6. Write the GEXF File\n",
    "Finally, you can write the graph to a GEXF file:"
   ]
  },
  {
   "cell_type": "code",
   "execution_count": 60,
   "id": "8ec98bc3-bb9f-4ca4-bbd2-d0809d9a34f5",
   "metadata": {},
   "outputs": [],
   "source": [
    "# Write the graph to a GEXF file\n",
    "nx.write_gexf(G, '#MamaMbogaMoment.gexf')"
   ]
  },
  {
   "cell_type": "code",
   "execution_count": null,
   "id": "79185082-db16-4bb6-acfa-7f2b47a437fc",
   "metadata": {},
   "outputs": [],
   "source": []
  }
 ],
 "metadata": {
  "kernelspec": {
   "display_name": "Python [conda env:base] *",
   "language": "python",
   "name": "conda-base-py"
  },
  "language_info": {
   "codemirror_mode": {
    "name": "ipython",
    "version": 3
   },
   "file_extension": ".py",
   "mimetype": "text/x-python",
   "name": "python",
   "nbconvert_exporter": "python",
   "pygments_lexer": "ipython3",
   "version": "3.12.7"
  }
 },
 "nbformat": 4,
 "nbformat_minor": 5
}
